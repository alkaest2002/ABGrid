{
 "cells": [
  {
   "cell_type": "code",
   "execution_count": 23,
   "id": "0895a63e-f5e5-4d65-8076-ea662b1d958c",
   "metadata": {},
   "outputs": [],
   "source": [
    "import yaml\n",
    "import json\n",
    "import pandas as pd\n",
    "from pathlib import Path\n",
    "from functools import reduce\n",
    "\n",
    "SYMBOLS = list(\"ABCDEFGHIJKLMNOPQRSTUVWXYZabcdefghijklmnopqrstuvwxyz\")\n",
    "\n",
    "from pandas.io.formats import excel\n",
    "excel.ExcelFormatter.header_style = None"
   ]
  },
  {
   "cell_type": "code",
   "execution_count": 24,
   "id": "24d2e59c-5189-444f-915e-1871e3dc4010",
   "metadata": {},
   "outputs": [],
   "source": [
    "path = Path(\"./data\") / \"zenit\" / \"zenit_i\"\n",
    "df = pd.read_excel(path / \"dati_originali.xlsx\")"
   ]
  },
  {
   "cell_type": "code",
   "execution_count": 25,
   "id": "463b9408-95ed-4b5d-ac91-43b5fa15b66a",
   "metadata": {},
   "outputs": [],
   "source": [
    "unique_names = df[\"from\"].sort_values().unique().tolist()\n",
    "map_names = { k:v for k,v in zip(unique_names, SYMBOLS[:len(unique_names)]) }\n",
    "\n",
    "(\n",
    "    pd.Series(map_names)\n",
    "        .to_frame()\n",
    "        .reset_index()\n",
    "        .rename(columns={\"index\": \"soggetto\", 0: \"lettera\"})\n",
    "        .to_excel(path / \"associazione.xlsx\", index=False)\n",
    ")"
   ]
  },
  {
   "cell_type": "code",
   "execution_count": 26,
   "id": "6ebfe5a1-2d3e-4ccf-abc7-a12a49fb7c30",
   "metadata": {},
   "outputs": [],
   "source": [
    "for ctx in (\"lud\", \"stu\"):\n",
    "    \n",
    "    df_yaml =  df.loc[:, [\"from\", f\"to_pos_{ctx}\", f\"to_neg_{ctx}\"]]\n",
    "    df_yaml_converted = df_yaml.replace(map_names, regex=True).fillna(\"-\")\n",
    "\n",
    "    for type in (\"pos\", \"neg\"):\n",
    "        with open(path / f\"{ctx}_{type}.yaml\", \"w\") as fout:\n",
    "            data = df_yaml_converted.set_index(\"from\").sort_index()[f\"to_{type}_{ctx}\"].str.replace(\" \", \"\")\n",
    "            data = [{k:v} for k, v in data.items()]\n",
    "            y = yaml.dump(data).replace(\"'-'\", \"\")\n",
    "            fout.write(y)"
   ]
  },
  {
   "cell_type": "code",
   "execution_count": null,
   "id": "d435a943-d722-4f85-a7bc-0ee5b1422609",
   "metadata": {},
   "outputs": [],
   "source": []
  },
  {
   "cell_type": "code",
   "execution_count": null,
   "id": "199d449b-a22a-47d2-ab9e-93f5f5743312",
   "metadata": {},
   "outputs": [],
   "source": []
  },
  {
   "cell_type": "code",
   "execution_count": null,
   "id": "6c2cf4c9-f6cf-4c14-a299-030d4f4fef4f",
   "metadata": {},
   "outputs": [],
   "source": []
  }
 ],
 "metadata": {
  "kernelspec": {
   "display_name": "Python 3 (ipykernel)",
   "language": "python",
   "name": "python3"
  },
  "language_info": {
   "codemirror_mode": {
    "name": "ipython",
    "version": 3
   },
   "file_extension": ".py",
   "mimetype": "text/x-python",
   "name": "python",
   "nbconvert_exporter": "python",
   "pygments_lexer": "ipython3",
   "version": "3.13.2"
  }
 },
 "nbformat": 4,
 "nbformat_minor": 5
}
