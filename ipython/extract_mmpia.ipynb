{
 "cells": [
  {
   "cell_type": "code",
   "execution_count": 7,
   "id": "1ab4ee65-141e-4566-82f5-006a4c8e3cc2",
   "metadata": {},
   "outputs": [],
   "source": [
    "import pandas as pd\n",
    "import fitz\n",
    "import re\n",
    "import csv\n",
    "from pathlib import Path\n",
    "\n",
    "mmpia_df = pd.DataFrame()\n",
    "\n",
    "for pdf_document in Path(\"./data/mmpia/vega\").glob(\"*.pdf\"):\n",
    "\n",
    "    doc = fitz.open(pdf_document)\n",
    "\n",
    "    def extract_name(file_stem):\n",
    "        parenthesis_index = file_stem.find(\"(\")\n",
    "        extracted_name = file_stem[:parenthesis_index].strip().lower()\n",
    "        extracted_name = re.sub(r\"\\s+\",\" \", extracted_name)\n",
    "        return extracted_name\n",
    "\n",
    "    data_dict = {\"id\": extract_name(pdf_document.stem) }\n",
    "    \n",
    "    pattern = re.compile(r\"([A-Za-z0-9\\-]+)\\s+(\\d+)\\s+(\\d+)\")\n",
    "    \n",
    "    # Pages from 2 to 6 (zero-indexed pages 1 to 5)\n",
    "    for page_number in range(1, 6):\n",
    "        page = doc.load_page(page_number)\n",
    "        text = page.get_text()    \n",
    "        matches = pattern.findall(text)\n",
    "        for scale, raw_score, t_score in matches:\n",
    "            raw_column = f\"{scale}_raw\"\n",
    "            t_column = f\"{scale}_scale_t\"\n",
    "            data_dict[raw_column] = int(raw_score)\n",
    "            data_dict[t_column] = int(t_score)\n",
    "    \n",
    "    # Convert the extracted data into a Pandas DataFrame\n",
    "    # Since we have a single row of data, we use pd.DataFrame.from_records\n",
    "    scales_df = pd.DataFrame.from_records([data_dict])\n",
    "    mmpia_df = pd.concat([mmpia_df, scales_df])\n",
    "\n",
    "mmpia_df.sort_values(by=\"id\").to_excel(\"./analysis/mmpia.xlsx\", index=False)"
   ]
  },
  {
   "cell_type": "code",
   "execution_count": null,
   "id": "47131a69-8461-4f53-89d2-037bbf864c37",
   "metadata": {},
   "outputs": [],
   "source": []
  }
 ],
 "metadata": {
  "kernelspec": {
   "display_name": "Python 3 (ipykernel)",
   "language": "python",
   "name": "python3"
  },
  "language_info": {
   "codemirror_mode": {
    "name": "ipython",
    "version": 3
   },
   "file_extension": ".py",
   "mimetype": "text/x-python",
   "name": "python",
   "nbconvert_exporter": "python",
   "pygments_lexer": "ipython3",
   "version": "3.13.2"
  }
 },
 "nbformat": 4,
 "nbformat_minor": 5
}
