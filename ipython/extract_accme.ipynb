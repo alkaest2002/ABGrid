{
 "cells": [
  {
   "cell_type": "code",
   "execution_count": 17,
   "id": "1ab4ee65-141e-4566-82f5-006a4c8e3cc2",
   "metadata": {},
   "outputs": [],
   "source": [
    "import re\n",
    "import numpy as np\n",
    "import pandas as pd\n",
    "from pathlib import Path\n",
    "\n",
    "pd.set_option(\"display.max_columns\", None)"
   ]
  },
  {
   "cell_type": "code",
   "execution_count": 35,
   "id": "1cf63491-c90a-4a56-b337-6a12a77ad2b1",
   "metadata": {},
   "outputs": [],
   "source": [
    "accme_df = pd.read_excel(\"./data/accme/vega/vega_ii/ie-accme.xlsx\")\n",
    "accme_df = accme_df.replace([-1], [np.nan]).dropna(axis=1)\n",
    "accme_df[\"Codice utente\"] = accme_df[\"Codice utente\"].str.lower()"
   ]
  },
  {
   "cell_type": "code",
   "execution_count": 37,
   "id": "47131a69-8461-4f53-89d2-037bbf864c37",
   "metadata": {},
   "outputs": [],
   "source": [
    "(\n",
    "    accme_df\n",
    "        .loc[:, [\"Codice utente\", \"CE-TOT_TS.1\", \"CME-TOT_TS.1\", \"AE-TOT_TS.1\",  \"AP-TOT_TS.1\"]]\n",
    "        .rename(columns={\n",
    "            \"Codice utente\": \"id\", \n",
    "            \"CE-TOT_TS.1\": \"ce_tot\",\n",
    "            \"CME-TOT_TS.1\": \"cme_tot\",\n",
    "            \"AE-TOT_TS.1\": \"ae_tot\",\n",
    "            \"AP-TOT_TS.1\": \"ap_tot\"\n",
    "        })\n",
    "        .assign(anno=\"i\")\n",
    "        .to_excel(\"./analysis/accme.xlsx\", index=False)\n",
    ")"
   ]
  },
  {
   "cell_type": "code",
   "execution_count": null,
   "id": "27b3ffaa-78c9-4b6a-8fb7-d63fde1aaef7",
   "metadata": {},
   "outputs": [],
   "source": []
  }
 ],
 "metadata": {
  "kernelspec": {
   "display_name": "Python 3 (ipykernel)",
   "language": "python",
   "name": "python3"
  },
  "language_info": {
   "codemirror_mode": {
    "name": "ipython",
    "version": 3
   },
   "file_extension": ".py",
   "mimetype": "text/x-python",
   "name": "python",
   "nbconvert_exporter": "python",
   "pygments_lexer": "ipython3",
   "version": "3.13.2"
  }
 },
 "nbformat": 4,
 "nbformat_minor": 5
}
