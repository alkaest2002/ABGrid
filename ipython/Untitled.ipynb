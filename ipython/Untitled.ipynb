{
 "cells": [
  {
   "cell_type": "code",
   "execution_count": 8,
   "id": "9787ce3d-6c0f-4ad1-a7bb-de8b20086272",
   "metadata": {},
   "outputs": [
    {
     "data": {
      "text/plain": [
       "0     0.090909\n",
       "1     0.272727\n",
       "2     0.272727\n",
       "3     0.500000\n",
       "4     0.681818\n",
       "5     0.863636\n",
       "6     0.681818\n",
       "7     0.500000\n",
       "8     0.272727\n",
       "9     0.863636\n",
       "10    1.000000\n",
       "dtype: float64"
      ]
     },
     "execution_count": 8,
     "metadata": {},
     "output_type": "execute_result"
    }
   ],
   "source": [
    "import pandas as pd\n",
    "pd.Series([1,2,2,3,4,5,4,3,2,5,6]).rank(pct=True)"
   ]
  },
  {
   "cell_type": "code",
   "execution_count": null,
   "id": "299e66ad-8ced-4a34-b1e9-a1b043e439a0",
   "metadata": {},
   "outputs": [],
   "source": []
  }
 ],
 "metadata": {
  "kernelspec": {
   "display_name": "Python 3 (ipykernel)",
   "language": "python",
   "name": "python3"
  },
  "language_info": {
   "codemirror_mode": {
    "name": "ipython",
    "version": 3
   },
   "file_extension": ".py",
   "mimetype": "text/x-python",
   "name": "python",
   "nbconvert_exporter": "python",
   "pygments_lexer": "ipython3",
   "version": "3.13.2"
  }
 },
 "nbformat": 4,
 "nbformat_minor": 5
}
