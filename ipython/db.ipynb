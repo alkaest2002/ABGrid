{
 "cells": [
  {
   "cell_type": "code",
   "execution_count": 1,
   "id": "88c245bf-1fbf-4c2f-8bff-f509915467cd",
   "metadata": {},
   "outputs": [],
   "source": [
    "import numpy as np\n",
    "import pandas as pd\n",
    "from pathlib import Path\n",
    "import json\n",
    "import yaml"
   ]
  },
  {
   "cell_type": "code",
   "execution_count": 6,
   "id": "bcfb1bf7-ed5b-4eab-b300-8f0d3c402ff1",
   "metadata": {},
   "outputs": [],
   "source": [
    "folder_to_harvest = Path(\"../data/douhet\")\n",
    "\n",
    "json_paths = folder_to_harvest.glob(\"**/*.json\")\n",
    "json_paths_with_labels = zip(map(lambda x: x.stem.replace(\"_data\", \"\"), json_paths), json_paths)\n",
    "\n",
    "\n",
    "db = pd.DataFrame()\n",
    "\n",
    "for data_label, data_path in json_paths_with_labels:\n",
    "\n",
    "    course_label = data_label.split(\"_\")[0]\n",
    "    cours_edition_label = data_label.split(\"_\")[1]\n",
    "\n",
    "    associazione_path = Path(f\"./data/{course_label}/{course_label}_{cours_edition_label}/associazione.xlsx\")\n",
    "    associazione_df = pd.read_excel(associazione_path)\n",
    "    \n",
    "    with open(data_path, \"r\") as fin:\n",
    "        \n",
    "        data = json.loads(fin.read())\n",
    "        root_key = list(data.keys())[0]\n",
    "        \n",
    "        sna_micro_stats_a = data[root_key][\"sna\"][\"micro_stats_a\"]\n",
    "        sna_micro_stats_b = data[root_key][\"sna\"][\"micro_stats_a\"]\n",
    "        sna_micro_sociogram = data[root_key][\"sociogram\"][\"micro_stats\"]\n",
    "        \n",
    "        sna_micro_stats_a_df = pd.DataFrame(sna_micro_stats_a).T.add_suffix(\"_a\", axis=1)\n",
    "        sna_macro_stats_b_df = pd.DataFrame(sna_micro_stats_b).T.add_suffix(\"_b\", axis=1)\n",
    "        sociogram_micro_stats_df = pd.DataFrame(sna_micro_sociogram).T\n",
    "        \n",
    "        course_df =  pd.concat([sna_micro_stats_a_df, sna_macro_stats_b_df, sociogram_micro_stats_df], axis=1)\n",
    "        course_df = course_df.reset_index(names=\"id\")\n",
    "        course_df.insert(0, \"corso\", data_label)\n",
    "        course_df = course_df.merge(associazione_df, left_on=\"id\", right_on=\"lettera\").drop(\"lettera\", axis=1)\n",
    "        columns_to_reorder =  list(course_df.columns)\n",
    "        course_df = course_df.loc[:, [ *columns_to_reorder[:1], columns_to_reorder[-1], *columns_to_reorder[1:-1] ]]\n",
    "    \n",
    "    db = pd.concat([db, course_df])\n",
    "\n",
    "db.to_excel(\"data_abgrid_per_analisi.xlsx\", index=False)"
   ]
  },
  {
   "cell_type": "code",
   "execution_count": 5,
   "id": "972d934e-457c-4ba7-ab9c-2df987d1ab8b",
   "metadata": {},
   "outputs": [
    {
     "data": {
      "text/html": [
       "<div>\n",
       "<style scoped>\n",
       "    .dataframe tbody tr th:only-of-type {\n",
       "        vertical-align: middle;\n",
       "    }\n",
       "\n",
       "    .dataframe tbody tr th {\n",
       "        vertical-align: top;\n",
       "    }\n",
       "\n",
       "    .dataframe thead th {\n",
       "        text-align: right;\n",
       "    }\n",
       "</style>\n",
       "<table border=\"1\" class=\"dataframe\">\n",
       "  <thead>\n",
       "    <tr style=\"text-align: right;\">\n",
       "      <th></th>\n",
       "      <th>affiliation_coeff</th>\n",
       "      <th>influence_coeff</th>\n",
       "    </tr>\n",
       "    <tr>\n",
       "      <th>corso</th>\n",
       "      <th></th>\n",
       "      <th></th>\n",
       "    </tr>\n",
       "  </thead>\n",
       "  <tbody>\n",
       "    <tr>\n",
       "      <th>ursa_ii_stu</th>\n",
       "      <td>98.423477</td>\n",
       "      <td>99.231396</td>\n",
       "    </tr>\n",
       "    <tr>\n",
       "      <th>vega_i_stu</th>\n",
       "      <td>100.0</td>\n",
       "      <td>100.0</td>\n",
       "    </tr>\n",
       "    <tr>\n",
       "      <th>vega_ii_lud</th>\n",
       "      <td>100.0</td>\n",
       "      <td>100.0</td>\n",
       "    </tr>\n",
       "    <tr>\n",
       "      <th>zenit_i_stu</th>\n",
       "      <td>100.0</td>\n",
       "      <td>100.0</td>\n",
       "    </tr>\n",
       "  </tbody>\n",
       "</table>\n",
       "</div>"
      ],
      "text/plain": [
       "            affiliation_coeff influence_coeff\n",
       "corso                                        \n",
       "ursa_ii_stu         98.423477       99.231396\n",
       "vega_i_stu              100.0           100.0\n",
       "vega_ii_lud             100.0           100.0\n",
       "zenit_i_stu             100.0           100.0"
      ]
     },
     "execution_count": 5,
     "metadata": {},
     "output_type": "execute_result"
    }
   ],
   "source": [
    "db.pivot_table(index=\"corso\", values=[\"affiliation_coeff\", \"influence_coeff\"], aggfunc=\"mean\")"
   ]
  },
  {
   "cell_type": "code",
   "execution_count": null,
   "id": "2fbf6f2f-6816-4e6c-b647-7821738b4ace",
   "metadata": {},
   "outputs": [],
   "source": []
  }
 ],
 "metadata": {
  "kernelspec": {
   "display_name": "Python 3 (ipykernel)",
   "language": "python",
   "name": "python3"
  },
  "language_info": {
   "codemirror_mode": {
    "name": "ipython",
    "version": 3
   },
   "file_extension": ".py",
   "mimetype": "text/x-python",
   "name": "python",
   "nbconvert_exporter": "python",
   "pygments_lexer": "ipython3",
   "version": "3.13.2"
  }
 },
 "nbformat": 4,
 "nbformat_minor": 5
}
