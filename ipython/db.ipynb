{
 "cells": [
  {
   "cell_type": "code",
   "execution_count": 1,
   "id": "88c245bf-1fbf-4c2f-8bff-f509915467cd",
   "metadata": {},
   "outputs": [],
   "source": [
    "import pandas as pd\n",
    "from pathlib import Path\n",
    "import json\n",
    "import yaml"
   ]
  },
  {
   "cell_type": "code",
   "execution_count": 5,
   "id": "bcfb1bf7-ed5b-4eab-b300-8f0d3c402ff1",
   "metadata": {},
   "outputs": [],
   "source": [
    "folder_to_havest = Path(\"../data/douhet\")\n",
    "\n",
    "json_paths = folder_to_havest.glob(\"**/*.json\")\n",
    "json_paths_with_labels = zip(map(lambda x: x.stem, json_paths), json_paths)\n",
    "\n",
    "\n",
    "db = pd.DataFrame()\n",
    "\n",
    "for label, json_path in json_paths_with_labels:\n",
    "    with open(json_path, \"r\") as fin:\n",
    "        \n",
    "        data = json.loads(fin.read())\n",
    "        root_key = list(data.keys())[0]\n",
    "        \n",
    "        sna_micro_stats_a = data[root_key][\"sna\"][\"micro_stats_a\"]\n",
    "        sna_micro_stats_b = data[root_key][\"sna\"][\"micro_stats_a\"]\n",
    "        sna_micro_sociogram = data[root_key][\"sociogram\"][\"micro_stats\"]\n",
    "        \n",
    "        sna_micro_stats_a_df = pd.DataFrame(sna_micro_stats_a).T.add_suffix(\"_a\", axis=1)\n",
    "        sna_macro_stats_b_df = pd.DataFrame(sna_micro_stats_b).T.add_suffix(\"_b\", axis=1)\n",
    "        sociogram_micro_stats_df = pd.DataFrame(sna_micro_sociogram).T\n",
    "        \n",
    "        course_df =  pd.concat([sna_micro_stats_a_df, sna_macro_stats_b_df, sociogram_micro_stats_df], axis=1)\n",
    "        course_df = course_df.reset_index(names=\"id\")\n",
    "        course_df.insert(0, \"corso\", label)\n",
    "        db = pd.concat([db, course_df])\n",
    "\n",
    "db.to_csv(\"data_abgrid_per_analisi.xlsx\", index=False)"
   ]
  },
  {
   "cell_type": "code",
   "execution_count": null,
   "id": "a999476f-f3d0-4924-9b57-2b454ffc49e3",
   "metadata": {},
   "outputs": [],
   "source": []
  },
  {
   "cell_type": "code",
   "execution_count": null,
   "id": "972d934e-457c-4ba7-ab9c-2df987d1ab8b",
   "metadata": {},
   "outputs": [],
   "source": []
  }
 ],
 "metadata": {
  "kernelspec": {
   "display_name": "Python 3 (ipykernel)",
   "language": "python",
   "name": "python3"
  },
  "language_info": {
   "codemirror_mode": {
    "name": "ipython",
    "version": 3
   },
   "file_extension": ".py",
   "mimetype": "text/x-python",
   "name": "python",
   "nbconvert_exporter": "python",
   "pygments_lexer": "ipython3",
   "version": "3.13.2"
  }
 },
 "nbformat": 4,
 "nbformat_minor": 5
}
