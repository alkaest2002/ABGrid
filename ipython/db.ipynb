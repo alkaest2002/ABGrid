{
 "cells": [
  {
   "cell_type": "code",
   "execution_count": 1,
   "id": "88c245bf-1fbf-4c2f-8bff-f509915467cd",
   "metadata": {},
   "outputs": [],
   "source": [
    "import numpy as np\n",
    "import pandas as pd\n",
    "from pathlib import Path\n",
    "import json\n",
    "import yaml"
   ]
  },
  {
   "cell_type": "code",
   "execution_count": 2,
   "id": "bcfb1bf7-ed5b-4eab-b300-8f0d3c402ff1",
   "metadata": {},
   "outputs": [],
   "source": [
    "folder_to_harvest = Path(\"../data/douhet\")\n",
    "\n",
    "json_paths = folder_to_harvest.glob(\"**/*.json\")\n",
    "\n",
    "db = pd.DataFrame()\n",
    "\n",
    "for data_path in json_paths:\n",
    "\n",
    "    course_label =  data_path.stem.replace(\"_data\", \"\")\n",
    "    course, edition, ctx = course_label.split(\"_\")\n",
    "\n",
    "    associazione_path = Path(f\"./data/{course}/{course}_{edition}/associazione.xlsx\")\n",
    "    associazione_df = pd.read_excel(associazione_path)\n",
    "    \n",
    "    with open(data_path, \"r\") as fin:\n",
    "        \n",
    "        data = json.loads(fin.read())\n",
    "        root_key = list(data.keys())[0]\n",
    "        \n",
    "        sna_micro_stats_a = data[root_key][\"sna\"][\"micro_stats_a\"]\n",
    "        sna_micro_stats_b = data[root_key][\"sna\"][\"micro_stats_a\"]\n",
    "        sna_micro_sociogram = data[root_key][\"sociogram\"][\"micro_stats\"]\n",
    "        \n",
    "        sna_micro_stats_a_df = pd.DataFrame(sna_micro_stats_a).T.add_suffix(\"_a\", axis=1)\n",
    "        sna_macro_stats_b_df = pd.DataFrame(sna_micro_stats_b).T.add_suffix(\"_b\", axis=1)\n",
    "        sociogram_micro_stats_df = pd.DataFrame(sna_micro_sociogram).T\n",
    "        \n",
    "        course_df =  pd.concat([sna_micro_stats_a_df, sna_macro_stats_b_df, sociogram_micro_stats_df], axis=1)\n",
    "        course_df = course_df.reset_index(names=\"id\")\n",
    "        course_df.insert(0, \"corso\", course)\n",
    "        course_df.insert(1, \"anno\", edition)\n",
    "        course_df.insert(3, \"contesto\", ctx)\n",
    "        \n",
    "        course_df = course_df.merge(associazione_df, left_on=\"id\", right_on=\"lettera\").drop(\"lettera\", axis=1)\n",
    "        columns_to_reorder =  list(course_df.columns)\n",
    "        course_df = course_df.loc[:, [ *columns_to_reorder[:1], columns_to_reorder[-1], *columns_to_reorder[1:-1] ]]\n",
    "    \n",
    "    db = pd.concat([db, course_df])\n",
    "\n",
    "db.to_excel(\"data_abgrid_per_analisi.xlsx\", index=False)"
   ]
  },
  {
   "cell_type": "code",
   "execution_count": 3,
   "id": "972d934e-457c-4ba7-ab9c-2df987d1ab8b",
   "metadata": {},
   "outputs": [
    {
     "data": {
      "text/html": [
       "<div>\n",
       "<style scoped>\n",
       "    .dataframe tbody tr th:only-of-type {\n",
       "        vertical-align: middle;\n",
       "    }\n",
       "\n",
       "    .dataframe tbody tr th {\n",
       "        vertical-align: top;\n",
       "    }\n",
       "\n",
       "    .dataframe thead th {\n",
       "        text-align: right;\n",
       "    }\n",
       "</style>\n",
       "<table border=\"1\" class=\"dataframe\">\n",
       "  <thead>\n",
       "    <tr style=\"text-align: right;\">\n",
       "      <th></th>\n",
       "      <th>affiliation_coeff_raw</th>\n",
       "      <th>influence_coeff_raw</th>\n",
       "    </tr>\n",
       "    <tr>\n",
       "      <th>corso</th>\n",
       "      <th></th>\n",
       "      <th></th>\n",
       "    </tr>\n",
       "  </thead>\n",
       "  <tbody>\n",
       "    <tr>\n",
       "      <th>ursa</th>\n",
       "      <td>2.62069</td>\n",
       "      <td>4.844828</td>\n",
       "    </tr>\n",
       "    <tr>\n",
       "      <th>vega</th>\n",
       "      <td>3.343284</td>\n",
       "      <td>4.902985</td>\n",
       "    </tr>\n",
       "    <tr>\n",
       "      <th>zenit</th>\n",
       "      <td>2.166667</td>\n",
       "      <td>4.416667</td>\n",
       "    </tr>\n",
       "  </tbody>\n",
       "</table>\n",
       "</div>"
      ],
      "text/plain": [
       "      affiliation_coeff_raw influence_coeff_raw\n",
       "corso                                          \n",
       "ursa                2.62069            4.844828\n",
       "vega               3.343284            4.902985\n",
       "zenit              2.166667            4.416667"
      ]
     },
     "execution_count": 3,
     "metadata": {},
     "output_type": "execute_result"
    }
   ],
   "source": [
    "db.pivot_table(index=\"corso\", values=[\"affiliation_coeff_raw\", \"influence_coeff_raw\"], aggfunc=\"mean\")"
   ]
  },
  {
   "cell_type": "code",
   "execution_count": null,
   "id": "2fbf6f2f-6816-4e6c-b647-7821738b4ace",
   "metadata": {},
   "outputs": [],
   "source": []
  }
 ],
 "metadata": {
  "kernelspec": {
   "display_name": "Python 3 (ipykernel)",
   "language": "python",
   "name": "python3"
  },
  "language_info": {
   "codemirror_mode": {
    "name": "ipython",
    "version": 3
   },
   "file_extension": ".py",
   "mimetype": "text/x-python",
   "name": "python",
   "nbconvert_exporter": "python",
   "pygments_lexer": "ipython3",
   "version": "3.13.2"
  }
 },
 "nbformat": 4,
 "nbformat_minor": 5
}
